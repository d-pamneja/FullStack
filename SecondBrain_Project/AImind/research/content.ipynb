{
 "cells": [
  {
   "cell_type": "markdown",
   "metadata": {},
   "source": [
    "# Dependencies"
   ]
  },
  {
   "cell_type": "code",
   "execution_count": 3,
   "metadata": {},
   "outputs": [],
   "source": [
    "import pandas as pd\n",
    "from langchain.document_loaders import PyPDFDirectoryLoader, TextLoader\n",
    "from langchain.text_splitter import RecursiveCharacterTextSplitter \n",
    "from openai import OpenAI\n",
    "from langchain_openai import ChatOpenAI\n",
    "from langchain.chains import LLMChain\n",
    "from pinecone import Pinecone, ServerlessSpec\n",
    "from langchain.chains import RetrievalQA\n",
    "from langchain.prompts import PromptTemplate \n",
    "from dotenv import load_dotenv\n",
    "load_dotenv()\n",
    "import os\n",
    "import time"
   ]
  },
  {
   "cell_type": "markdown",
   "metadata": {},
   "source": [
    "# Data Loading and Cleaning\n",
    "Here, we will be loading all the content as stored by a user in the form of a csv. Now, the each row will be converted as an embedding and stored in the vectorDB. We can go ahead and load the data and see the first few rows of the data."
   ]
  },
  {
   "cell_type": "code",
   "execution_count": 60,
   "metadata": {},
   "outputs": [
    {
     "data": {
      "text/html": [
       "<div>\n",
       "<style scoped>\n",
       "    .dataframe tbody tr th:only-of-type {\n",
       "        vertical-align: middle;\n",
       "    }\n",
       "\n",
       "    .dataframe tbody tr th {\n",
       "        vertical-align: top;\n",
       "    }\n",
       "\n",
       "    .dataframe thead th {\n",
       "        text-align: right;\n",
       "    }\n",
       "</style>\n",
       "<table border=\"1\" class=\"dataframe\">\n",
       "  <thead>\n",
       "    <tr style=\"text-align: right;\">\n",
       "      <th></th>\n",
       "      <th>_id</th>\n",
       "      <th>link</th>\n",
       "      <th>type</th>\n",
       "      <th>title</th>\n",
       "      <th>description</th>\n",
       "      <th>tags[0]</th>\n",
       "      <th>tags[1]</th>\n",
       "      <th>userID</th>\n",
       "      <th>__v</th>\n",
       "    </tr>\n",
       "  </thead>\n",
       "  <tbody>\n",
       "    <tr>\n",
       "      <th>0</th>\n",
       "      <td>67559f6ee33e21842371fd7b</td>\n",
       "      <td>https://openai.com/index/introducing-chatgpt-pro/</td>\n",
       "      <td>text</td>\n",
       "      <td>GPT Pro - $200/month</td>\n",
       "      <td>NaN</td>\n",
       "      <td>development</td>\n",
       "      <td>AI</td>\n",
       "      <td>67559e7229c6ffb06be7a883</td>\n",
       "      <td>0</td>\n",
       "    </tr>\n",
       "    <tr>\n",
       "      <th>1</th>\n",
       "      <td>67559fe0e33ecc79f41ea880</td>\n",
       "      <td>https://www.youtube.com/watch?v=zKd_kxcxGbo</td>\n",
       "      <td>video</td>\n",
       "      <td>The rise of mediocrity</td>\n",
       "      <td>NaN</td>\n",
       "      <td>development</td>\n",
       "      <td>motivation</td>\n",
       "      <td>67559e7229c6ffb06be7a883</td>\n",
       "      <td>0</td>\n",
       "    </tr>\n",
       "    <tr>\n",
       "      <th>2</th>\n",
       "      <td>6755a18be33e21842371fd91</td>\n",
       "      <td>https://medium.com/gopenai/unlocking-domain-ex...</td>\n",
       "      <td>text</td>\n",
       "      <td>RAG - Intro</td>\n",
       "      <td>NaN</td>\n",
       "      <td>AI</td>\n",
       "      <td>development</td>\n",
       "      <td>67559e7229c6ffb06be7a883</td>\n",
       "      <td>0</td>\n",
       "    </tr>\n",
       "  </tbody>\n",
       "</table>\n",
       "</div>"
      ],
      "text/plain": [
       "                        _id  \\\n",
       "0  67559f6ee33e21842371fd7b   \n",
       "1  67559fe0e33ecc79f41ea880   \n",
       "2  6755a18be33e21842371fd91   \n",
       "\n",
       "                                                link   type  \\\n",
       "0  https://openai.com/index/introducing-chatgpt-pro/   text   \n",
       "1        https://www.youtube.com/watch?v=zKd_kxcxGbo  video   \n",
       "2  https://medium.com/gopenai/unlocking-domain-ex...   text   \n",
       "\n",
       "                     title  description      tags[0]      tags[1]  \\\n",
       "0     GPT Pro - $200/month          NaN  development           AI   \n",
       "1  The rise of mediocrity           NaN  development   motivation   \n",
       "2              RAG - Intro          NaN           AI  development   \n",
       "\n",
       "                     userID  __v  \n",
       "0  67559e7229c6ffb06be7a883    0  \n",
       "1  67559e7229c6ffb06be7a883    0  \n",
       "2  67559e7229c6ffb06be7a883    0  "
      ]
     },
     "execution_count": 60,
     "metadata": {},
     "output_type": "execute_result"
    }
   ],
   "source": [
    "data = pd.read_csv(\"./data/Demo.csv\")\n",
    "data"
   ]
  },
  {
   "cell_type": "markdown",
   "metadata": {},
   "source": [
    "Now, we want to merge all columns except \"_id\", \"userID\" and \"description\" into a single column. This is because we want to convert all the content into a single embedding."
   ]
  },
  {
   "cell_type": "code",
   "execution_count": 64,
   "metadata": {},
   "outputs": [
    {
     "data": {
      "text/plain": [
       "'https://openai.com/index/introducing-chatgpt-pro/ : development : AI : GPT Pro - $200/month : text'"
      ]
     },
     "execution_count": 64,
     "metadata": {},
     "output_type": "execute_result"
    }
   ],
   "source": [
    "data[data.columns.difference(['_id', 'userID', 'description','__v'])].apply(lambda x: ' : '.join(x.dropna().astype(str)), axis=1)[0]"
   ]
  },
  {
   "cell_type": "code",
   "execution_count": 58,
   "metadata": {},
   "outputs": [],
   "source": [
    "data_mod = data[data.columns.difference(['_id', 'userID', 'description','__v'])]\n",
    "data_mod = data.apply(lambda x: ' : '.join(x.dropna().astype(str)), axis=1)"
   ]
  },
  {
   "cell_type": "code",
   "execution_count": 59,
   "metadata": {},
   "outputs": [
    {
     "data": {
      "text/html": [
       "<div>\n",
       "<style scoped>\n",
       "    .dataframe tbody tr th:only-of-type {\n",
       "        vertical-align: middle;\n",
       "    }\n",
       "\n",
       "    .dataframe tbody tr th {\n",
       "        vertical-align: top;\n",
       "    }\n",
       "\n",
       "    .dataframe thead th {\n",
       "        text-align: right;\n",
       "    }\n",
       "</style>\n",
       "<table border=\"1\" class=\"dataframe\">\n",
       "  <thead>\n",
       "    <tr style=\"text-align: right;\">\n",
       "      <th></th>\n",
       "      <th>_id</th>\n",
       "      <th>link</th>\n",
       "      <th>type</th>\n",
       "      <th>title</th>\n",
       "      <th>description</th>\n",
       "      <th>tags[0]</th>\n",
       "      <th>tags[1]</th>\n",
       "      <th>userID</th>\n",
       "      <th>__v</th>\n",
       "    </tr>\n",
       "  </thead>\n",
       "  <tbody>\n",
       "    <tr>\n",
       "      <th>0</th>\n",
       "      <td>67559f6ee33e21842371fd7b</td>\n",
       "      <td>https://openai.com/index/introducing-chatgpt-pro/</td>\n",
       "      <td>text</td>\n",
       "      <td>GPT Pro - $200/month</td>\n",
       "      <td>NaN</td>\n",
       "      <td>development</td>\n",
       "      <td>AI</td>\n",
       "      <td>67559e7229c6ffb06be7a883</td>\n",
       "      <td>0</td>\n",
       "    </tr>\n",
       "    <tr>\n",
       "      <th>1</th>\n",
       "      <td>67559fe0e33ecc79f41ea880</td>\n",
       "      <td>https://www.youtube.com/watch?v=zKd_kxcxGbo</td>\n",
       "      <td>video</td>\n",
       "      <td>The rise of mediocrity</td>\n",
       "      <td>NaN</td>\n",
       "      <td>development</td>\n",
       "      <td>motivation</td>\n",
       "      <td>67559e7229c6ffb06be7a883</td>\n",
       "      <td>0</td>\n",
       "    </tr>\n",
       "    <tr>\n",
       "      <th>2</th>\n",
       "      <td>6755a18be33e21842371fd91</td>\n",
       "      <td>https://medium.com/gopenai/unlocking-domain-ex...</td>\n",
       "      <td>text</td>\n",
       "      <td>RAG - Intro</td>\n",
       "      <td>NaN</td>\n",
       "      <td>AI</td>\n",
       "      <td>development</td>\n",
       "      <td>67559e7229c6ffb06be7a883</td>\n",
       "      <td>0</td>\n",
       "    </tr>\n",
       "  </tbody>\n",
       "</table>\n",
       "</div>"
      ],
      "text/plain": [
       "                        _id  \\\n",
       "0  67559f6ee33e21842371fd7b   \n",
       "1  67559fe0e33ecc79f41ea880   \n",
       "2  6755a18be33e21842371fd91   \n",
       "\n",
       "                                                link   type  \\\n",
       "0  https://openai.com/index/introducing-chatgpt-pro/   text   \n",
       "1        https://www.youtube.com/watch?v=zKd_kxcxGbo  video   \n",
       "2  https://medium.com/gopenai/unlocking-domain-ex...   text   \n",
       "\n",
       "                     title  description      tags[0]      tags[1]  \\\n",
       "0     GPT Pro - $200/month          NaN  development           AI   \n",
       "1  The rise of mediocrity           NaN  development   motivation   \n",
       "2              RAG - Intro          NaN           AI  development   \n",
       "\n",
       "                     userID  __v  \n",
       "0  67559e7229c6ffb06be7a883    0  \n",
       "1  67559e7229c6ffb06be7a883    0  \n",
       "2  67559e7229c6ffb06be7a883    0  "
      ]
     },
     "execution_count": 59,
     "metadata": {},
     "output_type": "execute_result"
    }
   ],
   "source": [
    "data"
   ]
  },
  {
   "cell_type": "code",
   "execution_count": null,
   "metadata": {},
   "outputs": [],
   "source": []
  }
 ],
 "metadata": {
  "kernelspec": {
   "display_name": ".venv",
   "language": "python",
   "name": "python3"
  },
  "language_info": {
   "codemirror_mode": {
    "name": "ipython",
    "version": 3
   },
   "file_extension": ".py",
   "mimetype": "text/x-python",
   "name": "python",
   "nbconvert_exporter": "python",
   "pygments_lexer": "ipython3",
   "version": "3.11.3"
  }
 },
 "nbformat": 4,
 "nbformat_minor": 2
}
